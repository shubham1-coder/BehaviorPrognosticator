{
  "nbformat": 4,
  "nbformat_minor": 0,
  "metadata": {
    "colab": {
      "private_outputs": true,
      "provenance": []
    },
    "kernelspec": {
      "name": "python3",
      "display_name": "Python 3"
    },
    "language_info": {
      "name": "python"
    }
  },
  "cells": [
    {
      "cell_type": "code",
      "execution_count": null,
      "metadata": {
        "id": "ffDcXO_fyV4Q"
      },
      "outputs": [],
      "source": []
    },
    {
      "cell_type": "code",
      "source": [
        "import pickle\n",
        "with open('knn_model.pickle','rb') as f:\n",
        "  knn_new = pickle.load(f)"
      ],
      "metadata": {
        "id": "PqWwzLhqy93K"
      },
      "execution_count": null,
      "outputs": []
    },
    {
      "cell_type": "code",
      "source": [
        "with open('scaler.pickle','rb') as f:\n",
        "  scaler_new = pickle.load(f)"
      ],
      "metadata": {
        "id": "zZpzQGLCz6gy"
      },
      "execution_count": null,
      "outputs": []
    },
    {
      "cell_type": "code",
      "source": [
        "import pandas as pd\n",
        "new_df = pd.read_csv(\"https://raw.githubusercontent.com/futurexskill/projects/main/knn-classification/new_customers.csv\")"
      ],
      "metadata": {
        "id": "2x3Ao6fH0Emc"
      },
      "execution_count": null,
      "outputs": []
    },
    {
      "cell_type": "code",
      "source": [
        "new_df"
      ],
      "metadata": {
        "id": "9HG4Lsx80L_6"
      },
      "execution_count": null,
      "outputs": []
    },
    {
      "cell_type": "code",
      "source": [
        "gender_encoded_new = pd.get_dummies(new_df['Gender'], drop_first=True)"
      ],
      "metadata": {
        "id": "9R9YHQSY0SMA"
      },
      "execution_count": null,
      "outputs": []
    },
    {
      "cell_type": "code",
      "source": [
        "gender_encoded_new"
      ],
      "metadata": {
        "id": "H4k_0s100YCo"
      },
      "execution_count": null,
      "outputs": []
    },
    {
      "cell_type": "code",
      "source": [
        "df_new_2 = pd.concat([new_df,gender_encoded_new],axis=1)\n",
        ""
      ],
      "metadata": {
        "id": "EhRK676a0dro"
      },
      "execution_count": null,
      "outputs": []
    },
    {
      "cell_type": "code",
      "source": [
        "df_new_2"
      ],
      "metadata": {
        "id": "ILKzMFmT0ifY"
      },
      "execution_count": null,
      "outputs": []
    },
    {
      "cell_type": "code",
      "source": [
        "x_new = df_new_2[['Male','Age','Salary','Price']].to_numpy()"
      ],
      "metadata": {
        "id": "qABF9WkN0l5_"
      },
      "execution_count": null,
      "outputs": []
    },
    {
      "cell_type": "code",
      "source": [
        "x_new"
      ],
      "metadata": {
        "id": "_tgidPqw0ovq"
      },
      "execution_count": null,
      "outputs": []
    },
    {
      "cell_type": "code",
      "source": [
        "x_new_scale2 = scaler_new.fit_transform(x_new)"
      ],
      "metadata": {
        "id": "hXXHNSQK0zR9"
      },
      "execution_count": null,
      "outputs": []
    },
    {
      "cell_type": "code",
      "source": [
        "x_new_scale2\n",
        ""
      ],
      "metadata": {
        "id": "rbtbw8E904Gr"
      },
      "execution_count": null,
      "outputs": []
    },
    {
      "cell_type": "code",
      "source": [
        "y_new_pred = knn_new.predict(x_new_scale2)"
      ],
      "metadata": {
        "id": "NDAS1wPT05I-"
      },
      "execution_count": null,
      "outputs": []
    },
    {
      "cell_type": "code",
      "source": [
        "y_new_pred"
      ],
      "metadata": {
        "id": "VYEwm7bi08gm"
      },
      "execution_count": null,
      "outputs": []
    },
    {
      "cell_type": "code",
      "source": [
        "df_new_2['will_purchase'] = y_new_pred\n",
        ""
      ],
      "metadata": {
        "id": "aQ2Y4k6z0_5W"
      },
      "execution_count": null,
      "outputs": []
    },
    {
      "cell_type": "code",
      "source": [
        "df_new_2\n",
        ""
      ],
      "metadata": {
        "id": "EQP1ljLw1DSD"
      },
      "execution_count": null,
      "outputs": []
    },
    {
      "cell_type": "code",
      "source": [
        "df_new_2.to_csv(\"model_predictions.csv\",index=False)"
      ],
      "metadata": {
        "id": "BrmbaEV41GqJ"
      },
      "execution_count": null,
      "outputs": []
    },
    {
      "cell_type": "code",
      "source": [
        "import pickle"
      ],
      "metadata": {
        "id": "GoaHzcJi5K4c"
      },
      "execution_count": null,
      "outputs": []
    },
    {
      "cell_type": "code",
      "source": [
        "with open('knn_model_prediction.pickle','wb') as f:\n",
        "  pickle.dump(knn_new,f)"
      ],
      "metadata": {
        "id": "Hnv7uzfy5Pz0"
      },
      "execution_count": null,
      "outputs": []
    }
  ]
}